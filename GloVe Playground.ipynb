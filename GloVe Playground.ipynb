{
 "cells": [
  {
   "cell_type": "markdown",
   "id": "93a2470d",
   "metadata": {},
   "source": [
    "## GloVe Playground"
   ]
  },
  {
   "cell_type": "code",
   "execution_count": 6,
   "id": "2e6c7477",
   "metadata": {},
   "outputs": [],
   "source": [
    "import numpy as np\n",
    "from scipy import spatial"
   ]
  },
  {
   "cell_type": "code",
   "execution_count": 7,
   "id": "585651ea",
   "metadata": {},
   "outputs": [],
   "source": [
    "embeddings = open(\"glove.42B.300d.txt\", \"r\")"
   ]
  },
  {
   "cell_type": "code",
   "execution_count": 8,
   "id": "c0812372",
   "metadata": {},
   "outputs": [],
   "source": [
    "embeddings_dict = {}"
   ]
  },
  {
   "cell_type": "code",
   "execution_count": 10,
   "id": "7440bd1f",
   "metadata": {},
   "outputs": [],
   "source": [
    "for v in embeddings:\n",
    "    tokens = v.split()\n",
    "    word = tokens[0]\n",
    "    vector = np.asarray(tokens[1:], \"float32\")\n",
    "    embeddings_dict[word] = vector"
   ]
  },
  {
   "cell_type": "markdown",
   "id": "5d7a5add",
   "metadata": {},
   "source": [
    "### Defining nearest_neighbours()\n",
    "which find the 10 nearest neighbours to the input word embedding."
   ]
  },
  {
   "cell_type": "code",
   "execution_count": 19,
   "id": "f5f30fa1",
   "metadata": {},
   "outputs": [],
   "source": [
    "def nearest_neighbours(word):\n",
    "    return sorted(embeddings_dict.keys(), key=lambda x: spatial.distance.euclidean(embeddings_dict[word], embeddings_dict[x]))[:10]"
   ]
  },
  {
   "cell_type": "code",
   "execution_count": 23,
   "id": "921e8ef2",
   "metadata": {},
   "outputs": [],
   "source": [
    "nns_king = nearest_neighbours(\"king\")"
   ]
  },
  {
   "cell_type": "code",
   "execution_count": 24,
   "id": "6e1a7ef4",
   "metadata": {},
   "outputs": [
    {
     "data": {
      "text/plain": [
       "['king',\n",
       " 'queen',\n",
       " 'prince',\n",
       " 'kings',\n",
       " 'henry',\n",
       " 'reign',\n",
       " 'simmons',\n",
       " 'solomon',\n",
       " 'brought',\n",
       " 'george']"
      ]
     },
     "execution_count": 24,
     "metadata": {},
     "output_type": "execute_result"
    }
   ],
   "source": [
    "nns_king"
   ]
  },
  {
   "cell_type": "code",
   "execution_count": 25,
   "id": "f09442f1",
   "metadata": {},
   "outputs": [],
   "source": [
    "nns_girlfriend = nearest_neighbours(\"girlfriend\")"
   ]
  },
  {
   "cell_type": "code",
   "execution_count": null,
   "id": "adc8e709",
   "metadata": {},
   "outputs": [],
   "source": [
    "nns_girlfriend"
   ]
  },
  {
   "cell_type": "code",
   "execution_count": 60,
   "id": "eea95d91",
   "metadata": {},
   "outputs": [],
   "source": []
  },
  {
   "cell_type": "code",
   "execution_count": 63,
   "id": "808b395c",
   "metadata": {},
   "outputs": [],
   "source": []
  },
  {
   "cell_type": "code",
   "execution_count": 64,
   "id": "418210bd",
   "metadata": {
    "scrolled": true
   },
   "outputs": [
    {
     "data": {
      "text/plain": [
       "['ottawa',\n",
       " 'canada',\n",
       " 'quebec',\n",
       " 'ontario',\n",
       " 'winnipeg',\n",
       " 'calgary',\n",
       " 'finland',\n",
       " 'edmonton',\n",
       " 'manitoba',\n",
       " 'saskatchewan',\n",
       " 'canadian',\n",
       " 'scotia',\n",
       " 'alberta',\n",
       " 'montreal',\n",
       " 'canadians',\n",
       " 'france',\n",
       " 'toronto',\n",
       " 'belgium',\n",
       " 'vancouver',\n",
       " 'sweden']"
      ]
     },
     "execution_count": 64,
     "metadata": {},
     "output_type": "execute_result"
    }
   ],
   "source": []
  },
  {
   "cell_type": "code",
   "execution_count": null,
   "id": "89cc94d2",
   "metadata": {},
   "outputs": [],
   "source": []
  }
 ],
 "metadata": {
  "kernelspec": {
   "display_name": "Python 3 (ipykernel)",
   "language": "python",
   "name": "python3"
  },
  "language_info": {
   "codemirror_mode": {
    "name": "ipython",
    "version": 3
   },
   "file_extension": ".py",
   "mimetype": "text/x-python",
   "name": "python",
   "nbconvert_exporter": "python",
   "pygments_lexer": "ipython3",
   "version": "3.9.13"
  }
 },
 "nbformat": 4,
 "nbformat_minor": 5
}
