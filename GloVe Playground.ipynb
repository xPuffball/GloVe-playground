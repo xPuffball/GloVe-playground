{
 "cells": [
  {
   "cell_type": "markdown",
   "id": "93a2470d",
   "metadata": {},
   "source": [
    "## GloVe Playground"
   ]
  },
  {
   "cell_type": "code",
   "execution_count": 6,
   "id": "2e6c7477",
   "metadata": {},
   "outputs": [],
   "source": [
    "import numpy as np\n",
    "from scipy import spatial"
   ]
  },
  {
   "cell_type": "code",
   "execution_count": 7,
   "id": "585651ea",
   "metadata": {},
   "outputs": [],
   "source": [
    "embeddings = open(\"glove.42B.300d.txt\", \"r\")"
   ]
  },
  {
   "cell_type": "code",
   "execution_count": 8,
   "id": "35b867de",
   "metadata": {},
   "outputs": [],
   "source": [
    "embeddings_dict = {}"
   ]
  },
  {
   "cell_type": "code",
   "execution_count": 10,
   "id": "7440bd1f",
   "metadata": {},
   "outputs": [],
   "source": [
    "for v in embeddings:\n",
    "    tokens = v.split()\n",
    "    word = tokens[0]\n",
    "    vector = np.asarray(tokens[1:], \"float32\")\n",
    "    embeddings_dict[word] = vector"
   ]
  },
  {
   "cell_type": "markdown",
   "id": "dca9fb51",
   "metadata": {},
   "source": [
    "### Defining nearest_neighbours()\n",
    "which find the 10 nearest neighbours to the input word embedding."
   ]
  },
  {
   "cell_type": "code",
   "execution_count": 19,
   "id": "f5f30fa1",
   "metadata": {},
   "outputs": [],
   "source": [
    "def nearest_neighbours(word):\n",
    "    return sorted(embeddings_dict.keys(), key=lambda x: spatial.distance.euclidean(embeddings_dict[word], embeddings_dict[x]))[:10]"
   ]
  },
  {
   "cell_type": "code",
   "execution_count": 23,
   "id": "27e5606d",
   "metadata": {},
   "outputs": [],
   "source": [
    "nns_king = nearest_neighbours(\"king\")"
   ]
  },
  {
   "cell_type": "code",
   "execution_count": 24,
   "id": "de636dd5",
   "metadata": {},
   "outputs": [
    {
     "data": {
      "text/plain": [
       "['king',\n",
       " 'queen',\n",
       " 'prince',\n",
       " 'kings',\n",
       " 'henry',\n",
       " 'reign',\n",
       " 'simmons',\n",
       " 'solomon',\n",
       " 'brought',\n",
       " 'george']"
      ]
     },
     "execution_count": 24,
     "metadata": {},
     "output_type": "execute_result"
    }
   ],
   "source": [
    "nns_king"
   ]
  },
  {
   "cell_type": "code",
   "execution_count": 25,
   "id": "5a868952",
   "metadata": {},
   "outputs": [],
   "source": [
    "nns_girlfriend = nearest_neighbours(\"girlfriend\")"
   ]
  },
  {
   "cell_type": "code",
   "execution_count": null,
   "id": "a0df7202",
   "metadata": {},
   "outputs": [],
   "source": [
    "nns_girlfriend"
   ]
  },
  {
   "cell_type": "markdown",
   "id": "2d09b2bc",
   "metadata": {},
   "source": [
    "### Defining word_analogy()\n",
    "A function that takes in three words, the first two being a king:man type analogy and a third word.\n",
    "\n",
    "Returns the appropriate word matching the analogy for the third word."
   ]
  },
  {
   "cell_type": "code",
   "execution_count": 67,
   "id": "12dc0b8f",
   "metadata": {},
   "outputs": [],
   "source": [
    "def word_analogy(e1, e2, w2): \n",
    "    result_vector = embeddings_dict[e1] - embeddings_dict[e2] + embeddings_dict[w2] \n",
    "    return sorted(embeddings_dict.keys(), key=lambda x: spatial.distance.euclidean(result_vector, embeddings_dict[x]))[1:21]"
   ]
  },
  {
   "cell_type": "code",
   "execution_count": 68,
   "id": "422781fb",
   "metadata": {},
   "outputs": [],
   "source": [
    "city_analogy = word_analogy('england', 'london', 'ottawa')"
   ]
  },
  {
   "cell_type": "code",
   "execution_count": 69,
   "id": "a218d04b",
   "metadata": {},
   "outputs": [
    {
     "data": {
      "text/plain": [
       "['ontario',\n",
       " 'quebec',\n",
       " 'winnipeg',\n",
       " 'manitoba',\n",
       " 'scotia',\n",
       " 'saskatchewan',\n",
       " 'england',\n",
       " 'calgary',\n",
       " 'canada',\n",
       " 'edmonton',\n",
       " 'montreal',\n",
       " 'newfoundland',\n",
       " 'hockey',\n",
       " 'minnesota',\n",
       " 'brunswick',\n",
       " 'niagara',\n",
       " 'alberta',\n",
       " 'blacksheardnr',\n",
       " 'islanders',\n",
       " 'northeastern']"
      ]
     },
     "execution_count": 69,
     "metadata": {},
     "output_type": "execute_result"
    }
   ],
   "source": [
    "city_analogy"
   ]
  },
  {
   "cell_type": "code",
   "execution_count": null,
   "id": "667d3e38",
   "metadata": {},
   "outputs": [],
   "source": [
    "family_analogy = word_analogy('man','woman','wife')"
   ]
  },
  {
   "cell_type": "code",
   "execution_count": null,
   "id": "6cf853a1",
   "metadata": {},
   "outputs": [],
   "source": [
    "family_analogy"
   ]
  }
 ],
 "metadata": {
  "kernelspec": {
   "display_name": "Python 3 (ipykernel)",
   "language": "python",
   "name": "python3"
  },
  "language_info": {
   "codemirror_mode": {
    "name": "ipython",
    "version": 3
   },
   "file_extension": ".py",
   "mimetype": "text/x-python",
   "name": "python",
   "nbconvert_exporter": "python",
   "pygments_lexer": "ipython3",
   "version": "3.9.13"
  }
 },
 "nbformat": 4,
 "nbformat_minor": 5
}
